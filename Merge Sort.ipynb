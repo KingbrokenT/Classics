{
 "cells": [
  {
   "cell_type": "code",
   "execution_count": 1,
   "id": "4e2abf7b",
   "metadata": {},
   "outputs": [
    {
     "data": {
      "text/plain": [
       "[4, 5, 6]"
      ]
     },
     "execution_count": 1,
     "metadata": {},
     "output_type": "execute_result"
    }
   ],
   "source": [
    "array = [1,2,3,4,5,6]\n",
    "m = 3\n",
    "array1= array[0:m]\n",
    "array2=array[m:len(array)]\n",
    "array2"
   ]
  },
  {
   "cell_type": "code",
   "execution_count": 20,
   "id": "9bd87500",
   "metadata": {},
   "outputs": [],
   "source": [
    "#This was used as a refrence and to get some help with the merge function \n",
    "# https://www.geeksforgeeks.org/merge-sort/"
   ]
  },
  {
   "cell_type": "code",
   "execution_count": 2,
   "id": "bb85d63d",
   "metadata": {},
   "outputs": [],
   "source": [
    "def middle(r):\n",
    "    \"\"\"get the middle point through floor division\"\"\"\n",
    "    return r//2"
   ]
  },
  {
   "cell_type": "code",
   "execution_count": 3,
   "id": "44e35cd1",
   "metadata": {},
   "outputs": [],
   "source": [
    "def divide(array,r):\n",
    "    \"\"\"split the array at the mid point\"\"\"\n",
    "    mid = middle(r)\n",
    "    array1 = array[0:mid]\n",
    "    array2 = array[mid:]\n",
    "    return array1, array2"
   ]
  },
  {
   "cell_type": "code",
   "execution_count": 4,
   "id": "68ad25b9",
   "metadata": {},
   "outputs": [],
   "source": [
    "def merge(array1,array2):\n",
    "    \"\"\"Move through the two arrays adding in the lowest element.\n",
    "    Since each array is pre sorted we only need to compare the elements in order\n",
    "    until we have added all of them. AFter that we just fill the rest of the elements\n",
    "    into the merged array\"\"\"\n",
    "    i = j = k = 0 #these indicies let us keep track of which point in each array we're on\n",
    "    merged = [0 for el in range(len(array1)+len(array2))] #this is array we return\n",
    "    #here we compare the two arrays and add in the lowest elements first\n",
    "    while i < len(array1) and j < len(array2):\n",
    "        if array1[i]<array2[j]:\n",
    "            merged[k] = array1[i]\n",
    "            i += 1\n",
    "            k += 1\n",
    "        elif array1[i]>=array2[j]:\n",
    "            merged[k] = array2[j]\n",
    "            j += 1\n",
    "            k += 1\n",
    "    #make sure we have added all elements of both arrays to our merged list\n",
    "    while i < len(array1):\n",
    "        merged[k] = array1[i]\n",
    "        i += 1\n",
    "        k += 1\n",
    "    while j < len(array2):\n",
    "        merged[k] = array2[j]\n",
    "        j += 1\n",
    "        k += 1\n",
    "    return merged"
   ]
  },
  {
   "cell_type": "code",
   "execution_count": 9,
   "id": "9df530bc",
   "metadata": {},
   "outputs": [],
   "source": [
    "def merge2(array1,array2):\n",
    "    \"\"\"Move through the two arrays adding in the lowest element.\n",
    "    Since each array is pre sorted we only need to compare the elements in order\n",
    "    until we have added all of them. AFter that we just fill the rest of the elements\n",
    "    into the merged array. Its just an alternative to merge()\"\"\"\n",
    "    i = j = k = 0 #these indicies let us keep track of which point in each array we're on\n",
    "    merged = [] #this is array we return\n",
    "    #here we compare the two arrays and add in the lowest elements first\n",
    "    while i < len(array1) and j < len(array2):\n",
    "        if array1[i]<array2[j]:\n",
    "            merged.append(array1[i])\n",
    "            i += 1\n",
    "        elif array1[i]>=array2[j]:\n",
    "            merged.append(array2[j])\n",
    "            j += 1\n",
    "    #make sure we have added all elements of both arrays to our merged list\n",
    "    if i < len(array1):\n",
    "        merged.extend(array1[i:])\n",
    "    if j < len(array2):\n",
    "        merged.extend(array2[j:])\n",
    "    return merged"
   ]
  },
  {
   "cell_type": "code",
   "execution_count": 10,
   "id": "10b59b4c",
   "metadata": {},
   "outputs": [],
   "source": [
    "def merge_sort(array):\n",
    "    r = len(array)\n",
    "    if r > 1:\n",
    "        array1,array2 = divide(array,r)\n",
    "        sort1 = merge_sort(array1)\n",
    "        sort2 = merge_sort(array2)\n",
    "    else:\n",
    "        return array\n",
    "    merged = merge2(sort1,sort2)\n",
    "    return merged"
   ]
  },
  {
   "cell_type": "code",
   "execution_count": 11,
   "id": "a0ba0557",
   "metadata": {},
   "outputs": [
    {
     "data": {
      "text/plain": [
       "[1, 2, 4, 6, 8, 10]"
      ]
     },
     "execution_count": 11,
     "metadata": {},
     "output_type": "execute_result"
    }
   ],
   "source": [
    "lis = [10,1,4,6,8,2]\n",
    "merged = merge_sort(lis)\n",
    "merged"
   ]
  },
  {
   "cell_type": "code",
   "execution_count": null,
   "id": "b3ad5e5c",
   "metadata": {},
   "outputs": [],
   "source": []
  }
 ],
 "metadata": {
  "kernelspec": {
   "display_name": "Python 3",
   "language": "python",
   "name": "python3"
  },
  "language_info": {
   "codemirror_mode": {
    "name": "ipython",
    "version": 3
   },
   "file_extension": ".py",
   "mimetype": "text/x-python",
   "name": "python",
   "nbconvert_exporter": "python",
   "pygments_lexer": "ipython3",
   "version": "3.8.8"
  }
 },
 "nbformat": 4,
 "nbformat_minor": 5
}
