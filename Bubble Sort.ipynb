{
 "cells": [
  {
   "cell_type": "code",
   "execution_count": null,
   "id": "51c13c86",
   "metadata": {},
   "outputs": [],
   "source": [
    "#select first element\n",
    "#compare that element to each other element\n",
    "    #if the first element is large than the other element, swap the indicies\n",
    "#iterate through this process until no swap happens\n",
    "#help found here https://www.geeksforgeeks.org/bubble-sort/"
   ]
  },
  {
   "cell_type": "code",
   "execution_count": 19,
   "id": "bf44ab25",
   "metadata": {},
   "outputs": [
    {
     "data": {
      "text/plain": [
       "[0, 1, 2, 3, 4]"
      ]
     },
     "execution_count": 19,
     "metadata": {},
     "output_type": "execute_result"
    }
   ],
   "source": []
  },
  {
   "cell_type": "code",
   "execution_count": 11,
   "id": "2d188664",
   "metadata": {},
   "outputs": [],
   "source": [
    "def bubble_sortish(lst):\n",
    "    \"\"\"Rather than a regular bubble sort, this only swaps pairs if they are mismatched and goes through ever\n",
    "    element each iteration rather than excluding elements already in plance\"\"\"\n",
    "    sorting = True\n",
    "    while sorting:\n",
    "        sorting = False\n",
    "        for i in range(len(lst)-1):\n",
    "            if lst[i] > lst[i+1]:\n",
    "                lst[i],lst[i+1] = lst[i+1],lst[i]\n",
    "                sorting = True\n",
    "    return lst"
   ]
  },
  {
   "cell_type": "code",
   "execution_count": null,
   "id": "12553436",
   "metadata": {},
   "outputs": [],
   "source": [
    "def bubble_sort(lst):\n",
    "    \"\"\"this one will actually run through the whole list for comparisons and swaps agacentelements\n",
    "    ignoring elements as we know they are placed in order\"\"\"\n",
    "    sorting = False\n",
    "    for i in range(len(lst)):\n",
    "        for j in range(len(lst)-i-1):\n",
    "            if lst[i] > lst[i+1]:\n",
    "                lst[i],lst[i+1] = lst[i+1],lst[i]\n",
    "                sorting = True\n",
    "        if not sorting:\n",
    "            break\n",
    "    return lst"
   ]
  },
  {
   "cell_type": "code",
   "execution_count": 20,
   "id": "ded4e74e",
   "metadata": {},
   "outputs": [],
   "source": [
    "lst = [5,1,4,8,2]\n",
    "sort = bubble_sort(lst)"
   ]
  },
  {
   "cell_type": "code",
   "execution_count": 21,
   "id": "db1ba150",
   "metadata": {},
   "outputs": [
    {
     "data": {
      "text/plain": [
       "[1, 2, 4, 5, 8]"
      ]
     },
     "execution_count": 21,
     "metadata": {},
     "output_type": "execute_result"
    }
   ],
   "source": [
    "sort"
   ]
  },
  {
   "cell_type": "code",
   "execution_count": 22,
   "id": "26dab672",
   "metadata": {},
   "outputs": [
    {
     "data": {
      "text/plain": [
       "[11, 12, 22, 25, 34, 64, 90]"
      ]
     },
     "execution_count": 22,
     "metadata": {},
     "output_type": "execute_result"
    }
   ],
   "source": [
    "lst = [64, 34, 25, 12, 22, 11, 90]\n",
    "sort = bubble_sort(lst)\n",
    "sort"
   ]
  },
  {
   "cell_type": "code",
   "execution_count": 23,
   "id": "e7d990c4",
   "metadata": {},
   "outputs": [
    {
     "data": {
      "text/plain": [
       "[1, 2, 4, 5, 8, 11, 12, 22, 25, 34, 64, 90]"
      ]
     },
     "execution_count": 23,
     "metadata": {},
     "output_type": "execute_result"
    }
   ],
   "source": [
    "lst = [5, 34, 25, 12, 22, 11, 90, 1, 4, 8, 2, 64]\n",
    "sort = bubble_sort(lst)\n",
    "sort"
   ]
  },
  {
   "cell_type": "code",
   "execution_count": null,
   "id": "0e9fc517",
   "metadata": {},
   "outputs": [],
   "source": []
  },
  {
   "cell_type": "code",
   "execution_count": null,
   "id": "9368e66a",
   "metadata": {},
   "outputs": [],
   "source": []
  }
 ],
 "metadata": {
  "kernelspec": {
   "display_name": "Python 3",
   "language": "python",
   "name": "python3"
  },
  "language_info": {
   "codemirror_mode": {
    "name": "ipython",
    "version": 3
   },
   "file_extension": ".py",
   "mimetype": "text/x-python",
   "name": "python",
   "nbconvert_exporter": "python",
   "pygments_lexer": "ipython3",
   "version": "3.8.8"
  }
 },
 "nbformat": 4,
 "nbformat_minor": 5
}
