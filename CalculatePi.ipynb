{
 "cells": [
  {
   "cell_type": "code",
   "execution_count": 1,
   "id": "cca64670",
   "metadata": {},
   "outputs": [],
   "source": [
    "#take number of digits desired\n",
    "\n",
    "#set up summation to extract the desired number of digits\n",
    "    #do this by using an if statement that will check that the rounded result of summation is equal to the\n",
    "    #actual rounded off math.pi\n",
    "\n",
    "#round to the desired digit"
   ]
  },
  {
   "cell_type": "code",
   "execution_count": 1,
   "id": "0239dfd2",
   "metadata": {},
   "outputs": [
    {
     "data": {
      "text/plain": [
       "3.0"
      ]
     },
     "execution_count": 1,
     "metadata": {},
     "output_type": "execute_result"
    }
   ],
   "source": [
    "import math\n",
    "pi = math.pi\n",
    "round(pi,0)"
   ]
  },
  {
   "cell_type": "code",
   "execution_count": 17,
   "id": "2f5bc5a2",
   "metadata": {},
   "outputs": [],
   "source": [
    "import math\n",
    "def nilakantha_term(term):\n",
    "    pi_sum_term = 4*(1/((term+1)*(term+2)*(term+3)))\n",
    "    return pi_sum_term"
   ]
  },
  {
   "cell_type": "code",
   "execution_count": 23,
   "id": "45cb192f",
   "metadata": {},
   "outputs": [],
   "source": [
    "def get_digit():\n",
    "    while True:\n",
    "        try:\n",
    "            inp = input('How many decimal places of pi do you want, but not more than 10: ')\n",
    "            digit = int(inp)\n",
    "            if digit > 10:\n",
    "                print('Sorry too many.')\n",
    "            else:\n",
    "                return digit\n",
    "        except:\n",
    "            print('Please enter a valid interger.')"
   ]
  },
  {
   "cell_type": "code",
   "execution_count": 24,
   "id": "900bc0c4",
   "metadata": {},
   "outputs": [],
   "source": [
    "def get_pi_est(pos,term_num,est):\n",
    "    if pos:\n",
    "        est += nilakantha_term(term_num)\n",
    "    else:\n",
    "        est -= nilakantha_term(term_num)\n",
    "    return est"
   ]
  },
  {
   "cell_type": "code",
   "execution_count": 25,
   "id": "84cbf0d1",
   "metadata": {},
   "outputs": [],
   "source": [
    "def pi_round():\n",
    "    digit = get_digit()\n",
    "    correct_pi = round(math.pi,digit)\n",
    "    pi_est  = 3\n",
    "    pi_est_rnd = 3.0\n",
    "    term_num = 1\n",
    "    pos = True\n",
    "    if digit == 0:\n",
    "        return pi_est\n",
    "    else:\n",
    "        iterr = 0\n",
    "        while pi_est_rnd != correct_pi:\n",
    "            pi_est = get_pi_est(pos,term_num,pi_est)\n",
    "            term_num += 2\n",
    "            pos = not pos\n",
    "            iterr+=1\n",
    "            print(iterr)\n",
    "            pi_est_rnd = round(pi_est,digit) \n",
    "    return pi_est_rnd"
   ]
  },
  {
   "cell_type": "code",
   "execution_count": 26,
   "id": "64eddf5c",
   "metadata": {},
   "outputs": [
    {
     "name": "stdout",
     "output_type": "stream",
     "text": [
      "How many decimal places of pi do you want, but not more than 10: 11\n",
      "Sorry too many.\n",
      "How many decimal places of pi do you want, but not more than 10: 3\n",
      "1\n",
      "2\n",
      "3\n",
      "4\n",
      "5\n",
      "6\n",
      "7\n"
     ]
    },
    {
     "data": {
      "text/plain": [
       "3.142"
      ]
     },
     "execution_count": 26,
     "metadata": {},
     "output_type": "execute_result"
    }
   ],
   "source": [
    "pi_round()"
   ]
  },
  {
   "cell_type": "code",
   "execution_count": null,
   "id": "3e7ed25e",
   "metadata": {},
   "outputs": [],
   "source": []
  },
  {
   "cell_type": "code",
   "execution_count": null,
   "id": "fe9b191d",
   "metadata": {},
   "outputs": [],
   "source": []
  },
  {
   "cell_type": "code",
   "execution_count": null,
   "id": "5c4da847",
   "metadata": {},
   "outputs": [],
   "source": []
  },
  {
   "cell_type": "code",
   "execution_count": null,
   "id": "1be0c716",
   "metadata": {},
   "outputs": [],
   "source": []
  },
  {
   "cell_type": "code",
   "execution_count": null,
   "id": "e6cc3cfe",
   "metadata": {},
   "outputs": [],
   "source": []
  }
 ],
 "metadata": {
  "kernelspec": {
   "display_name": "Python 3",
   "language": "python",
   "name": "python3"
  },
  "language_info": {
   "codemirror_mode": {
    "name": "ipython",
    "version": 3
   },
   "file_extension": ".py",
   "mimetype": "text/x-python",
   "name": "python",
   "nbconvert_exporter": "python",
   "pygments_lexer": "ipython3",
   "version": "3.8.8"
  }
 },
 "nbformat": 4,
 "nbformat_minor": 5
}
