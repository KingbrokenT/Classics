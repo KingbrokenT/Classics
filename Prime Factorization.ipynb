{
 "cells": [
  {
   "cell_type": "code",
   "execution_count": 1,
   "id": "15cea1a4",
   "metadata": {},
   "outputs": [],
   "source": [
    "#Check if number is prime\n",
    "#find lowest divisor of that number\n",
    "#save that number\n",
    "#execute that division repeat the process until you hit a prime number"
   ]
  },
  {
   "cell_type": "code",
   "execution_count": 3,
   "id": "f7bd6108",
   "metadata": {},
   "outputs": [],
   "source": [
    "# this test is taken from wikipedia. to find out if any number n is prime, it tests numbers up to sqrt(n)\n",
    "def is_prime(n: int) -> bool:\n",
    "    \"\"\"Primality test using 6k+-1 optimization.\"\"\"\n",
    "    if n <= 3:\n",
    "        return n > 1\n",
    "    if n % 2 == 0 or n % 3 == 0:\n",
    "        return False\n",
    "    i = 5\n",
    "    while i ** 2 <= n:\n",
    "        if n % i == 0 or n % (i + 2) == 0:\n",
    "            return False\n",
    "        i += 6\n",
    "    return True"
   ]
  },
  {
   "cell_type": "code",
   "execution_count": 19,
   "id": "a51838f4",
   "metadata": {},
   "outputs": [],
   "source": [
    "def lowest_divisor(n: int):\n",
    "    \"\"\"Edit to the primality test that returns the lowest divisor of a number\"\"\"\n",
    "    if n % 2 == 0:\n",
    "        return 2\n",
    "    elif n%3 == 0:\n",
    "        return 3\n",
    "    else:\n",
    "        i = 5\n",
    "        while i**2 <= n:\n",
    "            if n%i == 0:\n",
    "                return i\n",
    "                break\n",
    "            elif n%(i+2) == 0:\n",
    "                return i+2\n",
    "                break\n",
    "            i += 6"
   ]
  },
  {
   "cell_type": "code",
   "execution_count": 22,
   "id": "16d6c48f",
   "metadata": {},
   "outputs": [],
   "source": [
    "def prime_factors(num: int):\n",
    "    \"\"\"This function will use the other 2 in this file to generate a lsit of all factors\"\"\"\n",
    "    prime = is_prime(num)\n",
    "    factors = []\n",
    "    while not prime:\n",
    "        factor = lowest_divisor(num)\n",
    "        factors.append(factor)\n",
    "        num = num/factor\n",
    "        prime = is_prime(num)\n",
    "    factors.append(num)\n",
    "    return factors"
   ]
  },
  {
   "cell_type": "code",
   "execution_count": 24,
   "id": "02af9f27",
   "metadata": {},
   "outputs": [
    {
     "data": {
      "text/plain": [
       "[3, 5.0]"
      ]
     },
     "execution_count": 24,
     "metadata": {},
     "output_type": "execute_result"
    }
   ],
   "source": [
    "factors = prime_factors(15)\n",
    "factors"
   ]
  },
  {
   "cell_type": "code",
   "execution_count": 25,
   "id": "bc0a2b10",
   "metadata": {},
   "outputs": [
    {
     "data": {
      "text/plain": [
       "15.0"
      ]
     },
     "execution_count": 25,
     "metadata": {},
     "output_type": "execute_result"
    }
   ],
   "source": [
    "import math\n",
    "math.prod(factors)"
   ]
  },
  {
   "cell_type": "code",
   "execution_count": null,
   "id": "ecae0dcf",
   "metadata": {},
   "outputs": [],
   "source": []
  }
 ],
 "metadata": {
  "kernelspec": {
   "display_name": "Python 3",
   "language": "python",
   "name": "python3"
  },
  "language_info": {
   "codemirror_mode": {
    "name": "ipython",
    "version": 3
   },
   "file_extension": ".py",
   "mimetype": "text/x-python",
   "name": "python",
   "nbconvert_exporter": "python",
   "pygments_lexer": "ipython3",
   "version": "3.8.8"
  }
 },
 "nbformat": 4,
 "nbformat_minor": 5
}
