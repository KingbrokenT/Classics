{
 "cells": [
  {
   "cell_type": "code",
   "execution_count": null,
   "id": "f359c860",
   "metadata": {},
   "outputs": [],
   "source": [
    "#Order the array by 1 axis\n",
    "#sort the array by xaxis\n",
    "#find the mid point of the x-axis\n",
    "#find the smallest distance on each side of the mid point\n",
    "#compare those distances to see which is shorter (this is d)\n",
    "#check for points with d of the mid point\n",
    "#run distance comparisons for all of those points "
   ]
  },
  {
   "cell_type": "code",
   "execution_count": 111,
   "id": "b9df048b",
   "metadata": {},
   "outputs": [],
   "source": [
    "#I got help from here https://www.geeksforgeeks.org/closest-pair-of-points-using-divide-and-conquer-algorithm/\n",
    "#mostly in how to design the code (ie the steps listed above. I did review their code briefly after I\n",
    "#finished mine)"
   ]
  },
  {
   "cell_type": "code",
   "execution_count": 23,
   "id": "c4e73eb4",
   "metadata": {},
   "outputs": [],
   "source": [
    "import numpy as np\n",
    "import math "
   ]
  },
  {
   "cell_type": "code",
   "execution_count": 24,
   "id": "f2e9ff42",
   "metadata": {},
   "outputs": [],
   "source": [
    "def distance(p1,p2):\n",
    "    return ((p1[0]-p2[0])**2+(p1[1]-p2[1])**2)**(1/2)"
   ]
  },
  {
   "cell_type": "code",
   "execution_count": 95,
   "id": "657606ca",
   "metadata": {},
   "outputs": [],
   "source": [
    "def smallest_distance(array):\n",
    "    dist = math.inf\n",
    "    for i in range(len(array)):\n",
    "        for j in range(i+1,len(array)):\n",
    "            distpr = distance(array[i],array[j])\n",
    "            if distpr < dist:\n",
    "                dist = distpr\n",
    "                points = np.array([array[i], array[j]])\n",
    "    return dist, points\n",
    "                "
   ]
  },
  {
   "cell_type": "code",
   "execution_count": 108,
   "id": "9aae775e",
   "metadata": {},
   "outputs": [],
   "source": [
    "def closest_pair_problem(array):\n",
    "    \"\"\"Array should be a Nx2 list of points. This will choose the set of points with\n",
    "    the smallest distance and return those\"\"\"\n",
    "    \n",
    "    array = array[array[:,0].argsort()]\n",
    "    halfway = len(array)//2\n",
    "    array1 = array[0:halfway]\n",
    "    array2 = array[halfway:]\n",
    "    \n",
    "    dist1,points1 = smallest_distance(array1)\n",
    "    dist2,points2 = smallest_distance(array2)\n",
    "    \n",
    "    if dist1 < dist2:\n",
    "        dist = dist1\n",
    "        points = points1\n",
    "    else:\n",
    "        dist = dist2\n",
    "        points = points2\n",
    "        \n",
    "    lis = []\n",
    "    for point in array:\n",
    "        if abs(point[0]-array[halfway][0]) < dist:\n",
    "            lis.append(point)\n",
    "    array3 = np.array(lis)\n",
    "\n",
    "    if len(array3)>=2:\n",
    "        dist3,points3 = smallest_distance(array3)\n",
    "\n",
    "        if dist3 < dist:\n",
    "            dist = dist3\n",
    "            points = points3\n",
    "\n",
    "    print(f'The minimum distance is {dist} between {points[0,:]} and {points[1,:]}')\n",
    "    return dist, points"
   ]
  },
  {
   "cell_type": "code",
   "execution_count": 109,
   "id": "abef0f6b",
   "metadata": {},
   "outputs": [],
   "source": [
    "p_array = np.array([[15,2],[3,6],[40,7],[9,1],[1,1]])"
   ]
  },
  {
   "cell_type": "code",
   "execution_count": 110,
   "id": "a356a22e",
   "metadata": {},
   "outputs": [
    {
     "name": "stdout",
     "output_type": "stream",
     "text": [
      "The minimum distance is 5.385164807134504 between [1 1] and [3 6]\n"
     ]
    }
   ],
   "source": [
    "dist,points = closest_pair_problem(p_array)"
   ]
  },
  {
   "cell_type": "code",
   "execution_count": null,
   "id": "f5bb0ca3",
   "metadata": {},
   "outputs": [],
   "source": []
  }
 ],
 "metadata": {
  "kernelspec": {
   "display_name": "Python 3",
   "language": "python",
   "name": "python3"
  },
  "language_info": {
   "codemirror_mode": {
    "name": "ipython",
    "version": 3
   },
   "file_extension": ".py",
   "mimetype": "text/x-python",
   "name": "python",
   "nbconvert_exporter": "python",
   "pygments_lexer": "ipython3",
   "version": "3.8.8"
  }
 },
 "nbformat": 4,
 "nbformat_minor": 5
}
