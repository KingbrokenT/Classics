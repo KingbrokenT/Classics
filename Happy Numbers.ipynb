{
 "cells": [
  {
   "cell_type": "code",
   "execution_count": 1,
   "id": "fbf37f28",
   "metadata": {},
   "outputs": [],
   "source": [
    "#Take number as user input\n",
    "\n",
    "#Find the sum of the squares of its digits\n",
    "\n",
    "#repeat the process until the number equals a single digit number or a repeat occurs"
   ]
  },
  {
   "cell_type": "code",
   "execution_count": 1,
   "id": "19bb6db9",
   "metadata": {},
   "outputs": [],
   "source": [
    "def list_ver(string):\n",
    "    return [int(char) for char in string]"
   ]
  },
  {
   "cell_type": "code",
   "execution_count": 2,
   "id": "ff995757",
   "metadata": {},
   "outputs": [],
   "source": [
    "def sum_sq(lst):\n",
    "    su = 0\n",
    "    for num in lst:\n",
    "        su += num**2\n",
    "    return su"
   ]
  },
  {
   "cell_type": "code",
   "execution_count": 7,
   "id": "bb5f9a9a",
   "metadata": {},
   "outputs": [],
   "source": [
    "def happy_number(num):\n",
    "    old_nums = []\n",
    "    itera = 0\n",
    "    if num == 1:\n",
    "        print('1 is a happy number!')\n",
    "    while num != 1 and number not in seen_numbers:\n",
    "        itera += 1\n",
    "        old_nums.append(num)\n",
    "        num_list = list_ver(str(num))\n",
    "        num = sum_sq(num_list)\n",
    "        print(f'Iteration: {itera}; Number is: {num}')\n",
    "        if num == 1:\n",
    "            print(f'{old_nums[0]} is a happy number!')\n",
    "            break\n",
    "        elif num in old_nums:\n",
    "            print(f'{old_nums[0]} is a not happy number!')\n",
    "            break"
   ]
  },
  {
   "cell_type": "code",
   "execution_count": 9,
   "id": "1512b6d6",
   "metadata": {},
   "outputs": [
    {
     "name": "stdout",
     "output_type": "stream",
     "text": [
      "Iteration: 1; Number is: 2\n",
      "Iteration: 2; Number is: 4\n",
      "Iteration: 3; Number is: 16\n",
      "Iteration: 4; Number is: 37\n",
      "Iteration: 5; Number is: 58\n",
      "Iteration: 6; Number is: 89\n",
      "Iteration: 7; Number is: 145\n",
      "Iteration: 8; Number is: 42\n",
      "Iteration: 9; Number is: 20\n",
      "Iteration: 10; Number is: 4\n",
      "11 is a not happy number!\n"
     ]
    }
   ],
   "source": [
    "happy_number(11)"
   ]
  },
  {
   "cell_type": "code",
   "execution_count": null,
   "id": "cc8992b4",
   "metadata": {},
   "outputs": [],
   "source": []
  }
 ],
 "metadata": {
  "kernelspec": {
   "display_name": "Python 3",
   "language": "python",
   "name": "python3"
  },
  "language_info": {
   "codemirror_mode": {
    "name": "ipython",
    "version": 3
   },
   "file_extension": ".py",
   "mimetype": "text/x-python",
   "name": "python",
   "nbconvert_exporter": "python",
   "pygments_lexer": "ipython3",
   "version": "3.8.8"
  }
 },
 "nbformat": 4,
 "nbformat_minor": 5
}
